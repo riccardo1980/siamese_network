{
 "metadata": {
  "language_info": {
   "codemirror_mode": {
    "name": "ipython",
    "version": 3
   },
   "file_extension": ".py",
   "mimetype": "text/x-python",
   "name": "python",
   "nbconvert_exporter": "python",
   "pygments_lexer": "ipython3",
   "version": "3.7.3-final"
  },
  "orig_nbformat": 2,
  "kernelspec": {
   "name": "tf-2.3",
   "display_name": "tf-2.3",
   "language": "python"
  }
 },
 "nbformat": 4,
 "nbformat_minor": 2,
 "cells": [
  {
   "cell_type": "code",
   "execution_count": 1,
   "metadata": {},
   "outputs": [],
   "source": [
    "import sys\n",
    "import numpy as np\n",
    "from tensorflow.keras.datasets import mnist \n",
    "from tensorflow.keras.layers import Input, Lambda, Dense\n",
    "from tensorflow.keras.models import Model"
   ]
  },
  {
   "cell_type": "code",
   "execution_count": 2,
   "metadata": {},
   "outputs": [],
   "source": [
    "sys.path.append('../')\n",
    "from siamese_networks.siamese_network import build_siamese_model\n",
    "from siamese_networks.build_siamese_pairs import make_pairs\n",
    "from siamese_networks import config, utils"
   ]
  },
  {
   "cell_type": "code",
   "execution_count": 3,
   "metadata": {},
   "outputs": [
    {
     "output_type": "stream",
     "name": "stdout",
     "text": [
      "[INFO] loading MNIST dataset...\n",
      "[INFO] preparing positive and negative pairs...\n"
     ]
    }
   ],
   "source": [
    "# load MNIST dataset and scale the pixel values to the range of [0, 1]\n",
    "print(\"[INFO] loading MNIST dataset...\")\n",
    "\n",
    "(x_train, y_train), (x_test, y_test) = mnist.load_data()\n",
    "x_train = x_train / 255.0\n",
    "_xtest = x_test / 255.0\n",
    "\n",
    "# add a channel dimension to the images\n",
    "x_train = np.expand_dims(x_train, axis=-1)\n",
    "x_test = np.expand_dims(x_test, axis=-1)\n",
    "\n",
    "# prepare the positive and negative pairs\n",
    "print(\"[INFO] preparing positive and negative pairs...\")\n",
    "\n",
    "(x_pair_train, y_label_train) = make_pairs(x_train, y_train)\n",
    "(x_pair_test, y_label_test) = make_pairs(x_test, y_test)"
   ]
  },
  {
   "cell_type": "code",
   "execution_count": 4,
   "metadata": {},
   "outputs": [
    {
     "output_type": "stream",
     "name": "stdout",
     "text": [
      "[INFO] building siamese network...\n"
     ]
    }
   ],
   "source": [
    "# configure the siamese network\n",
    "\n",
    "print(\"[INFO] building siamese network...\")\n",
    "img_a = Input(shape=config.IMG_SHAPE)\n",
    "img_b = Input(shape=config.IMG_SHAPE)\n",
    "\n",
    "featureExtractor = build_siamese_model(config.IMG_SHAPE)\n",
    "feats_a = featureExtractor(img_a)\n",
    "feats_b = featureExtractor(img_b)"
   ]
  },
  {
   "cell_type": "code",
   "execution_count": 5,
   "metadata": {},
   "outputs": [],
   "source": [
    "# finally, construct the siamese network\n",
    "distance = Lambda(utils.euclidean_distance)([feats_a, feats_b])\n",
    "outputs = Dense(1, activation=\"sigmoid\")(distance)\n",
    "model = Model(inputs=[img_a, img_b], outputs=outputs)"
   ]
  },
  {
   "cell_type": "code",
   "execution_count": null,
   "metadata": {},
   "outputs": [],
   "source": [
    "# compile the model\n",
    "print(\"[INFO] compiling model...\")\n",
    "model.compile(loss=\"binary_crossentropy\", optimizer=\"adam\", metrics=[\"accuracy\"])\n",
    "\n",
    "# train the model\n",
    "print(\"[INFO] training model...\")\n",
    "history = model.fit([x_pair_train[:, 0], x_pair_train[:, 1]],\n",
    "                    y_label_train[:],\n",
    "                    validation_data=(\n",
    "                        [x_pair_test[:, 0], x_pair_test[:, 1]],\n",
    "                        y_label_test[:]\n",
    "                    ),\n",
    "                    batch_size=config.BATCH_SIZE, \n",
    "                    epochs=config.EPOCHS)\n",
    "\n",
    "# serialize the model to disk\n",
    "print(\"[INFO] saving siamese model...\")\n",
    "model.save(config.MODEL_PATH)\n",
    "\n",
    "# plot the training history\n",
    "print(\"[INFO] plotting training history...\")\n",
    "utils.plot_training(history, config.PLOT_PATH)"
   ]
  },
  {
   "cell_type": "code",
   "execution_count": null,
   "metadata": {},
   "outputs": [],
   "source": []
  }
 ]
}